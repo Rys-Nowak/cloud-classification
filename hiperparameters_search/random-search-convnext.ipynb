{
 "cells": [
  {
   "cell_type": "code",
   "execution_count": null,
   "metadata": {
    "execution": {
     "iopub.execute_input": "2025-01-08T08:27:59.270217Z",
     "iopub.status.busy": "2025-01-08T08:27:59.269922Z",
     "iopub.status.idle": "2025-01-08T08:27:59.282044Z",
     "shell.execute_reply": "2025-01-08T08:27:59.281030Z",
     "shell.execute_reply.started": "2025-01-08T08:27:59.270191Z"
    },
    "trusted": true
   },
   "outputs": [],
   "source": [
    "import tensorflow as tf\n",
    "import keras\n",
    "import sklearn\n",
    "import scikeras\n",
    "import sys\n",
    "import numpy as np\n",
    "\n",
    "print(\"GPU Available: \", tf.test.is_gpu_available())\n",
    "tf.__version__, keras.__version__, sklearn.__version__, scikeras.__version__, np.__version__, sys.version"
   ]
  },
  {
   "cell_type": "code",
   "execution_count": null,
   "metadata": {
    "execution": {
     "iopub.execute_input": "2025-01-08T08:29:36.848722Z",
     "iopub.status.busy": "2025-01-08T08:29:36.848301Z",
     "iopub.status.idle": "2025-01-08T08:29:36.922548Z",
     "shell.execute_reply": "2025-01-08T08:29:36.921665Z",
     "shell.execute_reply.started": "2025-01-08T08:29:36.848692Z"
    },
    "id": "yBjCJ6M-Uc3K",
    "trusted": true
   },
   "outputs": [],
   "source": [
    "import os\n",
    "import matplotlib.pyplot as plt\n",
    "import pandas as pd\n",
    "from keras import layers, saving\n",
    "from sklearn.metrics import confusion_matrix, ConfusionMatrixDisplay\n",
    "from sklearn.utils.class_weight import compute_class_weight\n",
    "from sklearn.model_selection import RandomizedSearchCV\n",
    "from scikeras.wrappers import KerasClassifier\n",
    "\n",
    "data_path = \"/kaggle/input/filtered-clouds/CCSN_filtered_224/\"\n",
    "test_path = data_path+\"test\"\n",
    "name_suffix = \"\"\n",
    "SEED = 43"
   ]
  },
  {
   "cell_type": "code",
   "execution_count": null,
   "metadata": {
    "execution": {
     "iopub.execute_input": "2025-01-08T08:29:36.998394Z",
     "iopub.status.busy": "2025-01-08T08:29:36.997306Z",
     "iopub.status.idle": "2025-01-08T08:29:37.003918Z",
     "shell.execute_reply": "2025-01-08T08:29:37.002657Z",
     "shell.execute_reply.started": "2025-01-08T08:29:36.998354Z"
    },
    "trusted": true
   },
   "outputs": [],
   "source": [
    "keras.utils.set_random_seed(SEED)"
   ]
  },
  {
   "cell_type": "code",
   "execution_count": null,
   "metadata": {
    "execution": {
     "iopub.execute_input": "2025-01-08T08:29:37.166610Z",
     "iopub.status.busy": "2025-01-08T08:29:37.166234Z",
     "iopub.status.idle": "2025-01-08T08:29:40.886229Z",
     "shell.execute_reply": "2025-01-08T08:29:40.885271Z",
     "shell.execute_reply.started": "2025-01-08T08:29:37.166581Z"
    },
    "trusted": true
   },
   "outputs": [],
   "source": [
    "BATCH_SIZE = 32\n",
    "IMAGE_SIZE = (224, 224)\n",
    "\n",
    "train_dataset = keras.utils.image_dataset_from_directory(\n",
    "    data_path+\"train\",\n",
    "    label_mode=\"categorical\",\n",
    "    batch_size=None,\n",
    "    image_size=IMAGE_SIZE,\n",
    ")\n"
   ]
  },
  {
   "cell_type": "code",
   "execution_count": null,
   "metadata": {
    "execution": {
     "iopub.execute_input": "2025-01-08T08:29:40.887663Z",
     "iopub.status.busy": "2025-01-08T08:29:40.887337Z",
     "iopub.status.idle": "2025-01-08T08:29:41.032407Z",
     "shell.execute_reply": "2025-01-08T08:29:41.031476Z",
     "shell.execute_reply.started": "2025-01-08T08:29:40.887636Z"
    },
    "trusted": true
   },
   "outputs": [],
   "source": [
    "test_dataset = keras.utils.image_dataset_from_directory(\n",
    "    test_path,\n",
    "    label_mode=\"categorical\",\n",
    "    batch_size=BATCH_SIZE,\n",
    "    image_size=IMAGE_SIZE,\n",
    ")"
   ]
  },
  {
   "cell_type": "code",
   "execution_count": null,
   "metadata": {
    "execution": {
     "iopub.execute_input": "2025-01-08T08:29:41.035081Z",
     "iopub.status.busy": "2025-01-08T08:29:41.034639Z",
     "iopub.status.idle": "2025-01-08T08:29:41.043630Z",
     "shell.execute_reply": "2025-01-08T08:29:41.042643Z",
     "shell.execute_reply.started": "2025-01-08T08:29:41.035036Z"
    },
    "trusted": true
   },
   "outputs": [],
   "source": [
    "labels_text = sorted(os.listdir(test_path))\n",
    "labels_dict = {i: name for i, name in zip(range(len(labels_text)), labels_text)}\n",
    "labels_text_to_num = {name: i for i, name in zip(range(len(labels_text)), labels_text)}\n",
    "labels_dict"
   ]
  },
  {
   "cell_type": "code",
   "execution_count": null,
   "metadata": {
    "execution": {
     "iopub.execute_input": "2025-01-08T08:29:41.189744Z",
     "iopub.status.busy": "2025-01-08T08:29:41.189331Z",
     "iopub.status.idle": "2025-01-08T08:29:41.221942Z",
     "shell.execute_reply": "2025-01-08T08:29:41.220947Z",
     "shell.execute_reply.started": "2025-01-08T08:29:41.189709Z"
    },
    "trusted": true
   },
   "outputs": [],
   "source": [
    "@saving.register_keras_serializable(\"Custom\")\n",
    "class PreprocessingLayerResnet(layers.Layer):\n",
    "    def __init__(self, **kwargs):\n",
    "        super(PreprocessingLayerResnet, self).__init__(**kwargs)\n",
    "\n",
    "    def get_config(self):\n",
    "        config = super(PreprocessingLayerResnet, self).get_config()\n",
    "        return config\n",
    "\n",
    "    def call(self, inputs, training=None):\n",
    "        outputs = keras.applications.resnet.preprocess_input(inputs)\n",
    "        outputs.set_shape(inputs.shape)\n",
    "        return outputs\n",
    "\n",
    "@saving.register_keras_serializable(\"Custom\")\n",
    "class PreprocessingLayerXception(layers.Layer):\n",
    "    def __init__(self, **kwargs):\n",
    "        super(PreprocessingLayerXception, self).__init__(**kwargs)\n",
    "\n",
    "    def get_config(self):\n",
    "        config = super(PreprocessingLayerXception, self).get_config()\n",
    "        return config\n",
    "\n",
    "    def call(self, inputs, training=None):\n",
    "        outputs = keras.applications.xception.preprocess_input(inputs)\n",
    "        outputs.set_shape(inputs.shape)\n",
    "        return outputs\n",
    "\n",
    "\n",
    "min_augmentation_layer = keras.models.Sequential([\n",
    "    layers.RandomFlip(\"horizontal\"),\n",
    "    layers.RandomRotation(0.1),\n",
    "    layers.RandomZoom((-0.25, 0.15)),\n",
    "], name=\"data_augmentation\")\n"
   ]
  },
  {
   "cell_type": "code",
   "execution_count": null,
   "metadata": {
    "execution": {
     "iopub.execute_input": "2025-01-08T08:29:43.171425Z",
     "iopub.status.busy": "2025-01-08T08:29:43.170945Z",
     "iopub.status.idle": "2025-01-08T08:29:57.160209Z",
     "shell.execute_reply": "2025-01-08T08:29:57.159234Z",
     "shell.execute_reply.started": "2025-01-08T08:29:43.171385Z"
    },
    "trusted": true
   },
   "outputs": [],
   "source": [
    "def get_y(ds):\n",
    "    y = []\n",
    "    for _, labels in ds:\n",
    "        for label in labels:\n",
    "            y.append(np.argmax(label, axis=-1))\n",
    "    return y\n",
    "\n",
    "y_train = get_y(train_dataset)\n",
    "class_weights = compute_class_weight('balanced', classes=np.unique(y_train), y=y_train)\n",
    "class_weights_dict = {i: class_weights[i] for i in range(len(class_weights))}\n",
    "print(class_weights_dict)"
   ]
  },
  {
   "cell_type": "code",
   "execution_count": null,
   "metadata": {
    "execution": {
     "iopub.execute_input": "2025-01-08T08:29:57.162272Z",
     "iopub.status.busy": "2025-01-08T08:29:57.161876Z",
     "iopub.status.idle": "2025-01-08T08:29:59.465934Z",
     "shell.execute_reply": "2025-01-08T08:29:59.464786Z",
     "shell.execute_reply.started": "2025-01-08T08:29:57.162232Z"
    },
    "trusted": true
   },
   "outputs": [],
   "source": [
    "IMG_SHAPE = IMAGE_SIZE + (3,)\n",
    "\n",
    "def create_model(dropout=0.2, optimizer_type=keras.optimizers.Adam, initial_lr=0.00005, decay_steps=5000, decay_rate=0.2,\n",
    "                 hidden_neurons=128, hidden_activation='gelu', freeze_point=1/3,\n",
    "                 kernel_regularizer=keras.regularizers.L2, kernel_reg_val=0.006):\n",
    "    lr_schedule = keras.optimizers.schedules.ExponentialDecay(\n",
    "        initial_learning_rate=initial_lr,\n",
    "        decay_steps=decay_steps,\n",
    "        decay_rate=decay_rate)\n",
    "    optimizer = optimizer_type(lr_schedule)\n",
    "    \n",
    "    input_tensor = keras.Input(shape=IMG_SHAPE)\n",
    "    x = input_tensor\n",
    "    x = min_augmentation_layer(x)\n",
    "\n",
    "    conv_base = keras.applications.convnext.ConvNeXtTiny(weights='imagenet', include_top=False, input_shape=IMG_SHAPE)\n",
    "    conv_base.trainable = True\n",
    "    for layer in conv_base.layers[:int(len(conv_base.layers) * freeze_point)]:\n",
    "        layer.trainable =  False\n",
    "\n",
    "    x = conv_base(x, training=False)\n",
    "    x = layers.GlobalAveragePooling2D()(x)\n",
    "    x = layers.Dropout(dropout)(x)\n",
    "    if hidden_neurons > 0:\n",
    "        x = layers.Dense(hidden_neurons, activation=hidden_activation, kernel_regularizer=kernel_regularizer(kernel_reg_val))(x)\n",
    "        x = layers.Dropout(dropout)(x)\n",
    "    predictions = layers.Dense(11, activation='softmax')(x)\n",
    "    model = keras.models.Model(inputs=input_tensor, outputs=predictions)\n",
    "    model.compile(loss=keras.losses.CategoricalCrossentropy(), optimizer=optimizer, metrics=['accuracy'])\n",
    "    return model\n"
   ]
  },
  {
   "cell_type": "code",
   "execution_count": null,
   "metadata": {
    "execution": {
     "iopub.execute_input": "2025-01-08T08:29:59.468136Z",
     "iopub.status.busy": "2025-01-08T08:29:59.467726Z",
     "iopub.status.idle": "2025-01-08T08:30:02.419434Z",
     "shell.execute_reply": "2025-01-08T08:30:02.418539Z",
     "shell.execute_reply.started": "2025-01-08T08:29:59.468097Z"
    },
    "trusted": true
   },
   "outputs": [],
   "source": [
    "x_train, y_train = [], []\n",
    "for img, label in train_dataset:\n",
    "    x_train.append(img)\n",
    "    y_train.append(label)\n",
    "\n",
    "x_train = np.array(x_train)\n",
    "y_train = np.array(y_train)"
   ]
  },
  {
   "cell_type": "code",
   "execution_count": null,
   "metadata": {
    "execution": {
     "execution_failed": "2025-01-08T08:31:58.094Z",
     "iopub.execute_input": "2025-01-08T08:30:02.421083Z",
     "iopub.status.busy": "2025-01-08T08:30:02.420683Z"
    },
    "trusted": true
   },
   "outputs": [],
   "source": [
    "param_grid = dict(\n",
    "    dropout=np.linspace(0, 0.8, 9),\n",
    "    optimizer_type=[keras.optimizers.Adam, keras.optimizers.Nadam, keras.optimizers.Adadelta],\n",
    "    initial_lr=[0.001, 0.0001, 0.00005, 0.00001],\n",
    "    decay_steps=[1000, 5000, 10000],\n",
    "    decay_rate=[1, 0.5, 0.2, 0.1],\n",
    "    hidden_neurons=[128, 256, 512],\n",
    "    hidden_activation=['gelu', 'relu', 'elu', 'leaky_relu'],\n",
    "    freeze_point=[1/3, 1/2, 1/4],\n",
    "    kernel_regularizer=[keras.regularizers.L1, keras.regularizers.L2, keras.regularizers.L1L2],\n",
    "    kernel_reg_val=np.linspace(0, 0.008, 9)\n",
    ")\n",
    "sklearn_model = KerasClassifier(model=create_model, epochs=30, batch_size=BATCH_SIZE, verbose=0, loss=keras.losses.CategoricalCrossentropy(), **param_grid)\n",
    "rand_search = RandomizedSearchCV(\n",
    "    estimator=sklearn_model, cv=3, param_distributions=param_grid, verbose=4, n_iter=10, n_jobs=1, random_state=SEED)\n",
    "\n",
    "grid_result = rand_search.fit(x_train, y_train,\n",
    "                             class_weight=class_weights_dict,\n",
    "                             callbacks=[keras.callbacks.EarlyStopping(monitor='val_loss', patience=10, restore_best_weights=True)]\n",
    "                            )\n",
    "\n",
    "best_model = grid_result.best_estimator_"
   ]
  },
  {
   "cell_type": "code",
   "execution_count": null,
   "metadata": {
    "execution": {
     "iopub.status.busy": "2025-01-07T21:11:24.630575Z",
     "iopub.status.idle": "2025-01-07T21:11:24.630956Z",
     "shell.execute_reply": "2025-01-07T21:11:24.630795Z"
    },
    "trusted": true
   },
   "outputs": [],
   "source": [
    "cv_results_df = pd.DataFrame(grid_result.cv_results_)\n",
    "cv_results_df.to_csv('rand_search.csv')"
   ]
  },
  {
   "cell_type": "code",
   "execution_count": null,
   "metadata": {
    "execution": {
     "iopub.status.busy": "2025-01-07T21:11:24.631610Z",
     "iopub.status.idle": "2025-01-07T21:11:24.631987Z",
     "shell.execute_reply": "2025-01-07T21:11:24.631825Z"
    },
    "trusted": true
   },
   "outputs": [],
   "source": [
    "print(grid_result.best_params_)\n",
    "cv_results_df"
   ]
  },
  {
   "cell_type": "code",
   "execution_count": null,
   "metadata": {
    "execution": {
     "iopub.status.busy": "2025-01-07T21:11:24.632822Z",
     "iopub.status.idle": "2025-01-07T21:11:24.633188Z",
     "shell.execute_reply": "2025-01-07T21:11:24.633027Z"
    },
    "trusted": true
   },
   "outputs": [],
   "source": [
    "def show_imgs_list(imgs, labels, wrong_labels):\n",
    "    fig, (ax1, ax2, ax3, ax4) = plt.subplots(4, 8)\n",
    "    axes = *ax1, *ax2, *ax3, *ax4\n",
    "    fig.set_size_inches(20, 10)\n",
    "    for ax, img, label, wrong_label in zip(axes, imgs, labels, wrong_labels):\n",
    "        ax.set_title(labels_dict.get(int(np.argmax(label, axis=-1)), \"Error\") + \" vs pred: \" + labels_dict.get(int(np.argmax(wrong_label, axis=-1)), \"Error\"))\n",
    "        ax.axis(\"off\")\n",
    "        img = np.array(img)\n",
    "        ax.imshow(img.astype(np.uint8))\n",
    "\n",
    "test_imgs = []\n",
    "test_labels = []\n",
    "for imgs, labels in test_dataset:\n",
    "    for img, label in zip(imgs, labels):\n",
    "        test_imgs.append(img)\n",
    "        test_labels.append(label)\n",
    "\n",
    "x_test, y_test = np.array(test_imgs), np.array(test_labels)"
   ]
  },
  {
   "cell_type": "code",
   "execution_count": null,
   "metadata": {
    "execution": {
     "iopub.status.busy": "2025-01-07T21:11:24.633881Z",
     "iopub.status.idle": "2025-01-07T21:11:24.634249Z",
     "shell.execute_reply": "2025-01-07T21:11:24.634089Z"
    },
    "trusted": true
   },
   "outputs": [],
   "source": [
    "predicted_labels = best_model.predict(x_test)\n",
    "misclassified_indices = np.argmax(predicted_labels, axis=-1) != np.argmax(y_test, axis=-1)\n",
    "show_imgs_list(x_test[misclassified_indices], y_test[misclassified_indices], predicted_labels[misclassified_indices])"
   ]
  },
  {
   "cell_type": "code",
   "execution_count": null,
   "metadata": {
    "execution": {
     "iopub.status.busy": "2025-01-07T21:11:24.635010Z",
     "iopub.status.idle": "2025-01-07T21:11:24.635408Z",
     "shell.execute_reply": "2025-01-07T21:11:24.635216Z"
    },
    "id": "aqMwjI4bUc3Y",
    "trusted": true
   },
   "outputs": [],
   "source": [
    "def show_cm(model, x, y, out_name):\n",
    "    y_test_pred = model.predict(x)\n",
    "    y_test_pred_cls = [np.argmax(sample) for sample in y_test_pred]\n",
    "    cm = confusion_matrix(y, y_test_pred_cls, labels=list(labels_dict.keys()))\n",
    "    disp = ConfusionMatrixDisplay(confusion_matrix=cm, display_labels=list(labels_dict.values()))\n",
    "    disp.plot()\n",
    "    plt.savefig(\"/kaggle/working/test_confusion_matrix_\"+out_name+\"_\"+name_suffix+\".png\")\n",
    "    plt.show()\n",
    "\n",
    "show_cm(best_model, x_test, [np.argmax(label) for label in y_test], \"convnext\")"
   ]
  }
 ],
 "metadata": {
  "colab": {
   "provenance": []
  },
  "kaggle": {
   "accelerator": "gpu",
   "dataSources": [
    {
     "datasetId": 6379089,
     "sourceId": 10305286,
     "sourceType": "datasetVersion"
    },
    {
     "modelId": 205177,
     "modelInstanceId": 182976,
     "sourceId": 214636,
     "sourceType": "modelInstanceVersion"
    }
   ],
   "isGpuEnabled": true,
   "isInternetEnabled": true,
   "language": "python",
   "sourceType": "notebook"
  },
  "kernelspec": {
   "display_name": "Python 3",
   "language": "python",
   "name": "python3"
  },
  "language_info": {
   "codemirror_mode": {
    "name": "ipython",
    "version": 3
   },
   "file_extension": ".py",
   "mimetype": "text/x-python",
   "name": "python",
   "nbconvert_exporter": "python",
   "pygments_lexer": "ipython3",
   "version": "3.10.12"
  }
 },
 "nbformat": 4,
 "nbformat_minor": 4
}
